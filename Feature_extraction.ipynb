{
 "cells": [
  {
   "cell_type": "markdown",
   "id": "40f8e128-0b7a-4a2c-b8f5-2aa9a98efd2e",
   "metadata": {},
   "source": [
    "Import dependancies"
   ]
  },
  {
   "cell_type": "code",
   "execution_count": 88,
   "id": "be9a71db-6ef1-4c8f-8888-f03c96a11e20",
   "metadata": {},
   "outputs": [],
   "source": [
    "import pandas as pd\n",
    "import numpy as np\n",
    "import matplotlib.pyplot as plt\n",
    "from sklearn.preprocessing import MinMaxScaler\n",
    "import os"
   ]
  },
  {
   "cell_type": "markdown",
   "id": "3ca0fe00-4926-4d3a-aee6-c95cb84c95f9",
   "metadata": {},
   "source": [
    "Creation folder path"
   ]
  },
  {
   "cell_type": "code",
   "execution_count": 96,
   "id": "ebedd816-be99-4cf1-a5dc-15931c427f77",
   "metadata": {},
   "outputs": [],
   "source": [
    "folder_path = 'E:\\FYP\\LSTM-Human-Activity-Recognition-master/Falling_data/Data/Non_Fall'"
   ]
  },
  {
   "cell_type": "markdown",
   "id": "50538af2-ff3b-47c2-aad7-22665442487a",
   "metadata": {},
   "source": [
    "Take every csv files in folder "
   ]
  },
  {
   "cell_type": "code",
   "execution_count": null,
   "id": "bbc91ffb-7606-46c6-af1a-cad21beb3bc4",
   "metadata": {},
   "outputs": [],
   "source": [
    "csv_files = [file for file in os.listdir(folder_path) if file.endswith('.csv')]"
   ]
  },
  {
   "cell_type": "markdown",
   "id": "96bd837d-e55c-43af-84ed-52159e313749",
   "metadata": {},
   "source": [
    "List every csv file in dataframe"
   ]
  },
  {
   "cell_type": "code",
   "execution_count": 98,
   "id": "f221c220-3651-41c3-98be-2920ccb37f63",
   "metadata": {},
   "outputs": [],
   "source": [
    "dfs = []\n",
    "for file in csv_files:\n",
    "    file_path = os.path.join(folder_path, file)\n",
    "    df = pd.read_csv(file_path)\n",
    "    dfs.append(df)"
   ]
  },
  {
   "cell_type": "code",
   "execution_count": 99,
   "id": "300f2c83-6d1d-4ad4-bf80-cc78c0e1473e",
   "metadata": {},
   "outputs": [],
   "source": [
    "result_df = pd.concat(dfs, ignore_index=True)"
   ]
  },
  {
   "cell_type": "code",
   "execution_count": 100,
   "id": "05e4b9e6-a491-4221-bf34-c2b4a8384a34",
   "metadata": {
    "collapsed": true,
    "jupyter": {
     "outputs_hidden": true
    },
    "tags": []
   },
   "outputs": [
    {
     "name": "stdout",
     "output_type": "stream",
     "text": [
      "     1    238    237     68    129    116    281    177    152    194  ...  \\\n",
      "0  2.0  238.0  236.0  127.0  132.0  117.0  235.0  179.0  152.0  145.0  ...   \n",
      "1  3.0  237.0  236.0  135.0  133.0  117.0  227.0  179.0  152.0  137.0  ...   \n",
      "2  4.0  236.0  235.0  140.0  133.0  118.0  219.0  178.0  152.0  129.0  ...   \n",
      "3  5.0  235.0  236.0  130.0  133.0  118.0  230.0  184.0  152.0  138.0  ...   \n",
      "4  6.0  233.0  236.0  133.0  134.0  117.0  230.0  181.0  152.0  140.0  ...   \n",
      "\n",
      "   92.3269664880838  147.001243760572  -40.5031284081783.1  \\\n",
      "0               NaN               NaN                  NaN   \n",
      "1               NaN               NaN                  NaN   \n",
      "2               NaN               NaN                  NaN   \n",
      "3               NaN               NaN                  NaN   \n",
      "4               NaN               NaN                  NaN   \n",
      "\n",
      "   -149.613701026754.1  -28.823167378371.1  29.0086230931332.1  \\\n",
      "0                  NaN                 NaN                 NaN   \n",
      "1                  NaN                 NaN                 NaN   \n",
      "2                  NaN                 NaN                 NaN   \n",
      "3                  NaN                 NaN                 NaN   \n",
      "4                  NaN                 NaN                 NaN   \n",
      "\n",
      "   167.916311610025.1  7.36495431098452.1  0.673434  3/24/2023 5:14:38 PM  \n",
      "0                 NaN                 NaN       NaN                   NaN  \n",
      "1                 NaN                 NaN       NaN                   NaN  \n",
      "2                 NaN                 NaN       NaN                   NaN  \n",
      "3                 NaN                 NaN       NaN                   NaN  \n",
      "4                 NaN                 NaN       NaN                   NaN  \n",
      "\n",
      "[5 rows x 3335 columns]\n"
     ]
    }
   ],
   "source": [
    "print(result_df.head())"
   ]
  },
  {
   "cell_type": "code",
   "execution_count": 101,
   "id": "5e0b2648-f260-4ad4-901b-19a4daa37e74",
   "metadata": {},
   "outputs": [
    {
     "data": {
      "text/plain": [
       "40"
      ]
     },
     "execution_count": 101,
     "metadata": {},
     "output_type": "execute_result"
    }
   ],
   "source": [
    "len(dfs)"
   ]
  },
  {
   "cell_type": "code",
   "execution_count": 102,
   "id": "3fb2f0fb-b90a-4aea-bfcc-20a1bd78523c",
   "metadata": {
    "collapsed": true,
    "jupyter": {
     "outputs_hidden": true
    },
    "tags": []
   },
   "outputs": [
    {
     "data": {
      "text/html": [
       "<div>\n",
       "<style scoped>\n",
       "    .dataframe tbody tr th:only-of-type {\n",
       "        vertical-align: middle;\n",
       "    }\n",
       "\n",
       "    .dataframe tbody tr th {\n",
       "        vertical-align: top;\n",
       "    }\n",
       "\n",
       "    .dataframe thead th {\n",
       "        text-align: right;\n",
       "    }\n",
       "</style>\n",
       "<table border=\"1\" class=\"dataframe\">\n",
       "  <thead>\n",
       "    <tr style=\"text-align: right;\">\n",
       "      <th></th>\n",
       "      <th>1</th>\n",
       "      <th>238</th>\n",
       "      <th>237</th>\n",
       "      <th>68</th>\n",
       "      <th>129</th>\n",
       "      <th>116</th>\n",
       "      <th>281</th>\n",
       "      <th>177</th>\n",
       "      <th>152</th>\n",
       "      <th>194</th>\n",
       "      <th>...</th>\n",
       "      <th>97.0334213067504</th>\n",
       "      <th>-170.67489312648</th>\n",
       "      <th>13.2222639764351.1</th>\n",
       "      <th>-89.8290878779455.1</th>\n",
       "      <th>-62.4737197850101.1</th>\n",
       "      <th>-59.0221567258631.1</th>\n",
       "      <th>173.432106438572.1</th>\n",
       "      <th>-0.0527494097466002.1</th>\n",
       "      <th>0.181904</th>\n",
       "      <th>3/24/2023 8:51:08 AM</th>\n",
       "    </tr>\n",
       "  </thead>\n",
       "  <tbody>\n",
       "    <tr>\n",
       "      <th>0</th>\n",
       "      <td>2</td>\n",
       "      <td>238</td>\n",
       "      <td>236</td>\n",
       "      <td>127</td>\n",
       "      <td>132</td>\n",
       "      <td>117</td>\n",
       "      <td>235</td>\n",
       "      <td>179</td>\n",
       "      <td>152</td>\n",
       "      <td>145</td>\n",
       "      <td>...</td>\n",
       "      <td>94.922596</td>\n",
       "      <td>-171.402976</td>\n",
       "      <td>2.359112</td>\n",
       "      <td>-95.403246</td>\n",
       "      <td>-63.506680</td>\n",
       "      <td>-59.203337</td>\n",
       "      <td>173.260086</td>\n",
       "      <td>0.144806</td>\n",
       "      <td>0.178678</td>\n",
       "      <td>3/24/2023 8:51:08 AM</td>\n",
       "    </tr>\n",
       "    <tr>\n",
       "      <th>1</th>\n",
       "      <td>3</td>\n",
       "      <td>237</td>\n",
       "      <td>236</td>\n",
       "      <td>135</td>\n",
       "      <td>133</td>\n",
       "      <td>117</td>\n",
       "      <td>227</td>\n",
       "      <td>179</td>\n",
       "      <td>152</td>\n",
       "      <td>137</td>\n",
       "      <td>...</td>\n",
       "      <td>94.179596</td>\n",
       "      <td>-172.653817</td>\n",
       "      <td>-0.542989</td>\n",
       "      <td>-96.931920</td>\n",
       "      <td>-63.116334</td>\n",
       "      <td>-59.372565</td>\n",
       "      <td>173.671936</td>\n",
       "      <td>-0.293701</td>\n",
       "      <td>0.176965</td>\n",
       "      <td>3/24/2023 8:51:08 AM</td>\n",
       "    </tr>\n",
       "    <tr>\n",
       "      <th>2</th>\n",
       "      <td>4</td>\n",
       "      <td>236</td>\n",
       "      <td>235</td>\n",
       "      <td>140</td>\n",
       "      <td>133</td>\n",
       "      <td>118</td>\n",
       "      <td>219</td>\n",
       "      <td>178</td>\n",
       "      <td>152</td>\n",
       "      <td>129</td>\n",
       "      <td>...</td>\n",
       "      <td>93.148835</td>\n",
       "      <td>-173.649518</td>\n",
       "      <td>-3.733833</td>\n",
       "      <td>-98.669028</td>\n",
       "      <td>-61.956506</td>\n",
       "      <td>-59.317380</td>\n",
       "      <td>173.449227</td>\n",
       "      <td>-0.116267</td>\n",
       "      <td>0.174902</td>\n",
       "      <td>3/24/2023 8:51:08 AM</td>\n",
       "    </tr>\n",
       "    <tr>\n",
       "      <th>3</th>\n",
       "      <td>5</td>\n",
       "      <td>235</td>\n",
       "      <td>236</td>\n",
       "      <td>130</td>\n",
       "      <td>133</td>\n",
       "      <td>118</td>\n",
       "      <td>230</td>\n",
       "      <td>184</td>\n",
       "      <td>152</td>\n",
       "      <td>138</td>\n",
       "      <td>...</td>\n",
       "      <td>92.958377</td>\n",
       "      <td>-174.062779</td>\n",
       "      <td>-0.347037</td>\n",
       "      <td>-96.870756</td>\n",
       "      <td>-61.597997</td>\n",
       "      <td>-59.086529</td>\n",
       "      <td>173.411331</td>\n",
       "      <td>-0.083149</td>\n",
       "      <td>0.172916</td>\n",
       "      <td>3/24/2023 8:51:08 AM</td>\n",
       "    </tr>\n",
       "    <tr>\n",
       "      <th>4</th>\n",
       "      <td>6</td>\n",
       "      <td>233</td>\n",
       "      <td>236</td>\n",
       "      <td>133</td>\n",
       "      <td>134</td>\n",
       "      <td>117</td>\n",
       "      <td>230</td>\n",
       "      <td>181</td>\n",
       "      <td>152</td>\n",
       "      <td>140</td>\n",
       "      <td>...</td>\n",
       "      <td>93.561347</td>\n",
       "      <td>-173.930421</td>\n",
       "      <td>0.051269</td>\n",
       "      <td>-96.647358</td>\n",
       "      <td>-63.122823</td>\n",
       "      <td>-59.312257</td>\n",
       "      <td>173.348115</td>\n",
       "      <td>-0.019189</td>\n",
       "      <td>0.171463</td>\n",
       "      <td>3/24/2023 8:51:08 AM</td>\n",
       "    </tr>\n",
       "  </tbody>\n",
       "</table>\n",
       "<p>5 rows × 94 columns</p>\n",
       "</div>"
      ],
      "text/plain": [
       "   1  238  237   68  129  116  281  177  152  194  ...  97.0334213067504  \\\n",
       "0  2  238  236  127  132  117  235  179  152  145  ...         94.922596   \n",
       "1  3  237  236  135  133  117  227  179  152  137  ...         94.179596   \n",
       "2  4  236  235  140  133  118  219  178  152  129  ...         93.148835   \n",
       "3  5  235  236  130  133  118  230  184  152  138  ...         92.958377   \n",
       "4  6  233  236  133  134  117  230  181  152  140  ...         93.561347   \n",
       "\n",
       "   -170.67489312648  13.2222639764351.1  -89.8290878779455.1  \\\n",
       "0       -171.402976            2.359112           -95.403246   \n",
       "1       -172.653817           -0.542989           -96.931920   \n",
       "2       -173.649518           -3.733833           -98.669028   \n",
       "3       -174.062779           -0.347037           -96.870756   \n",
       "4       -173.930421            0.051269           -96.647358   \n",
       "\n",
       "   -62.4737197850101.1  -59.0221567258631.1  173.432106438572.1  \\\n",
       "0           -63.506680           -59.203337          173.260086   \n",
       "1           -63.116334           -59.372565          173.671936   \n",
       "2           -61.956506           -59.317380          173.449227   \n",
       "3           -61.597997           -59.086529          173.411331   \n",
       "4           -63.122823           -59.312257          173.348115   \n",
       "\n",
       "   -0.0527494097466002.1  0.181904  3/24/2023 8:51:08 AM  \n",
       "0               0.144806  0.178678  3/24/2023 8:51:08 AM  \n",
       "1              -0.293701  0.176965  3/24/2023 8:51:08 AM  \n",
       "2              -0.116267  0.174902  3/24/2023 8:51:08 AM  \n",
       "3              -0.083149  0.172916  3/24/2023 8:51:08 AM  \n",
       "4              -0.019189  0.171463  3/24/2023 8:51:08 AM  \n",
       "\n",
       "[5 rows x 94 columns]"
      ]
     },
     "execution_count": 102,
     "metadata": {},
     "output_type": "execute_result"
    }
   ],
   "source": [
    "dfs[0].head()"
   ]
  },
  {
   "cell_type": "markdown",
   "id": "01afb0b5-a69d-4ad4-bc21-a5626650dad8",
   "metadata": {},
   "source": [
    "Feature extraction every csv file"
   ]
  },
  {
   "cell_type": "code",
   "execution_count": 103,
   "id": "493369d2-8f8a-4eee-a804-c4de67045554",
   "metadata": {},
   "outputs": [],
   "source": [
    "Extracted_features=[]\n",
    "for df in (dfs):\n",
    "    df_colum=('count','angle1','angle2','angle3','angle4','angle5','angle6','angle7','angle8','angle9','angle10','angle11','angle12','angle13','angle14','angle15','angle16','x1','y1','z1','x2','y2','z2','x3','y3','z3','x4','y4','z4','x5','y5','z5','x6','y6','z6','x7','y7','z7','x8','y8','z8','x9','y9','z9','x10','y10','z10','x11','y11','z11','x12','y12','z12','x13','y13','z13','x14','y14','z14','x15','y15','z15','x16','y16','z16','x17','y17','z17','x18','y18','z18','x19','y19','z19','hipLeftRotationX','hipLeftRotationY','hipLeftRotationZ','kneeLeftRotationX','kneeLeftRotationY','kneeLeftRotationZ','AnkleLeftRotationX','AnkleLeftRotationY','AnkleLeftRotationZ','HipRightRotationX','HipRightRotationY','HipRightRotationZ','KneeRightRotationX','KneeRightRotationY','KneeRightRotationZ','AnkleRightRotationX','AnkleRightRotationY','AnkleRightRotationZ','Plane_to_Head_distance','time')\n",
    "    df.columns=df_colum\n",
    "    df.drop_duplicates(inplace=True)\n",
    "    df.dropna(inplace=True)\n",
    "    #drop unnecessary features\n",
    "    df.drop(['x2', 'x3','x6','x7','x8','x9','x14','x15','x16','x17','x18','x19','y2', 'y3','y6','y7','y8','y9','y14','y15','y16','y17','y18','y19','z2', 'z3','z6','z7','z8','z9','z14','z15','z16','z17','z18','z19'], axis=1, inplace=True)\n",
    "    df.drop(['angle2','angle5','angle7','angle8','angle9','angle10','angle11','angle12','angle13','angle14','angle15','angle16'],axis=1,inplace=True)\n",
    "    df.drop(['hipLeftRotationX','hipLeftRotationY','hipLeftRotationZ','kneeLeftRotationX','kneeLeftRotationY','kneeLeftRotationZ','AnkleLeftRotationX','AnkleLeftRotationY','AnkleLeftRotationZ','HipRightRotationX','HipRightRotationY','HipRightRotationZ','KneeRightRotationX','KneeRightRotationY','KneeRightRotationZ','AnkleRightRotationX','AnkleRightRotationY','AnkleRightRotationZ','Plane_to_Head_distance'],axis=1,inplace=True)\n",
    "    df.drop(['count'],axis=1,inplace=True)\n",
    "    df.drop(['time'],axis=1,inplace=True)\n",
    "    rows=df.shape[0]\n",
    "    #colums=df.shape[1]\n",
    "    \n",
    "    #Take posion 4,5,10,11,12,13 related to 1 position x,y,z coodinates respectively\n",
    "    new_colum1=[]\n",
    "    new_colum2=[]\n",
    "    new_colum3=[]\n",
    "\n",
    "    for col in range (7,23,3):\n",
    "\n",
    "        for row in range(0,rows):\n",
    "            x_ref=df.iloc[row][4]\n",
    "            y_ref=df.iloc[row][5]\n",
    "            z_ref=df.iloc[row][6]\n",
    "\n",
    "            new_colum1.append(df.iloc[row][col]-x_ref)\n",
    "            new_colum2.append(df.iloc[row][col+1]-y_ref)\n",
    "            new_colum3.append(df.iloc[row][col+2]-z_ref)\n",
    "        df['X'+str(col)]=new_colum1[-rows:]\n",
    "        df['Y'+str(col)]=new_colum2[-rows:]\n",
    "        df['Z'+str(col)]=new_colum3[-rows:]\n",
    "    #take velocity      \n",
    "    for row in range (0,rows-1):\n",
    "        df.iloc[row] = (df.iloc[row+1] - df.iloc[row])*30\n",
    "    \n",
    "    #Data normalization\n",
    "    numerical_features = df.select_dtypes(include=['float64', 'int64']).columns\n",
    "    scaler = MinMaxScaler()\n",
    "    df[numerical_features] = scaler.fit_transform(df[numerical_features])\n",
    "    df.drop(['x1', 'x4','x5','x10','x11','x12','x13','y1', 'y4','y5','y10','y11','y12','y13','z1', 'z4','z5','z10','z11','z12','z13'], axis=1, inplace=True)\n",
    "    \n",
    "    rows1=df.shape[0]\n",
    "    #colums1=df.shape[1]\n",
    "    \n",
    "    #take (x^2 + y^2 + z^2)^0.5 every joint velocities\n",
    "    new_colum=[]\n",
    "\n",
    "    for col in range (4,20,3):\n",
    "\n",
    "        for row in range(0,rows1):\n",
    "\n",
    "            new_colum.append((((df.iloc[row][col])**2)+((df.iloc[row][col+1])**2)+(df.iloc[row][col+2])**2)**0.5)\n",
    "        df['|Velocity'+str(col)+'|']=new_colum[-rows1:]\n",
    "    \n",
    "    \n",
    "    df.drop(['X7', 'X10','X13','X16','X19','X22','Y7', 'Y10','Y13','Y16','Y19','Y22','Z7', 'Z10','Z13','Z16','Z19','Z22'], axis=1, inplace=True)\n",
    "    \n",
    "    Extracted_features.append(df)\n",
    "    "
   ]
  },
  {
   "cell_type": "markdown",
   "id": "53f89372-f643-47d9-952a-dadd007ff1fc",
   "metadata": {},
   "source": [
    "Create extracted csv folder path"
   ]
  },
  {
   "cell_type": "code",
   "execution_count": 104,
   "id": "c6603b9d-3457-4310-8299-dfa4beee6721",
   "metadata": {},
   "outputs": [],
   "source": [
    "Extracted_folder_path='E:\\FYP\\LSTM-Human-Activity-Recognition-master/Falling_data/Extracted_data/Non_Fall/'"
   ]
  },
  {
   "cell_type": "markdown",
   "id": "415ed61b-6b7a-42eb-8c46-91f131fd4b84",
   "metadata": {},
   "source": [
    "Append every extracted csv files in extracted folder"
   ]
  },
  {
   "cell_type": "code",
   "execution_count": 105,
   "id": "6c49edf1-096e-4573-bb92-f426fa9a55f8",
   "metadata": {
    "tags": []
   },
   "outputs": [],
   "source": [
    "for i in range (len(Extracted_features)):\n",
    "    Extracted_features[i].to_csv(Extracted_folder_path+str(i)+'.csv', index=False)"
   ]
  },
  {
   "cell_type": "code",
   "execution_count": 87,
   "id": "a5dfb5d8-88ac-4841-ae9f-57d669fb981c",
   "metadata": {
    "collapsed": true,
    "jupyter": {
     "outputs_hidden": true
    },
    "tags": []
   },
   "outputs": [
    {
     "name": "stdout",
     "output_type": "stream",
     "text": [
      "(148, 10)\n",
      "(374, 10)\n",
      "(381, 10)\n",
      "(284, 10)\n",
      "(172, 10)\n",
      "(185, 10)\n",
      "(161, 10)\n",
      "(160, 10)\n",
      "(151, 10)\n",
      "(170, 10)\n",
      "(128, 10)\n",
      "(171, 10)\n",
      "(154, 10)\n",
      "(88, 10)\n",
      "(98, 10)\n",
      "(183, 10)\n",
      "(80, 10)\n",
      "(130, 10)\n",
      "(174, 10)\n",
      "(100, 10)\n",
      "(139, 10)\n",
      "(922, 10)\n",
      "(165, 10)\n",
      "(919, 10)\n",
      "(1046, 10)\n",
      "(963, 10)\n",
      "(920, 10)\n",
      "(921, 10)\n",
      "(912, 10)\n",
      "(916, 10)\n",
      "(989, 10)\n",
      "(914, 10)\n",
      "(218, 10)\n",
      "(134, 93)\n",
      "(203, 93)\n",
      "(195, 93)\n",
      "(200, 93)\n",
      "(314, 94)\n",
      "(1754, 94)\n",
      "(1855, 94)\n"
     ]
    }
   ],
   "source": [
    "for i in dfs:\n",
    "    print(i.shape)"
   ]
  },
  {
   "cell_type": "code",
   "execution_count": 74,
   "id": "9eaad6fc-d407-46a2-a3d0-1d6982ae4c2e",
   "metadata": {},
   "outputs": [],
   "source": [
    "Extracted_features=[]\n"
   ]
  },
  {
   "cell_type": "code",
   "execution_count": 85,
   "id": "6d49e637-3a25-4319-964b-cfe307078b2d",
   "metadata": {},
   "outputs": [
    {
     "data": {
      "text/plain": [
       "33"
      ]
     },
     "execution_count": 85,
     "metadata": {},
     "output_type": "execute_result"
    }
   ],
   "source": [
    "len(Extracted_features)"
   ]
  },
  {
   "cell_type": "code",
   "execution_count": 95,
   "id": "a55ace77-51bc-4d2f-995f-c220f7d2ea04",
   "metadata": {},
   "outputs": [],
   "source": [
    "Extracted_features=[]\n"
   ]
  },
  {
   "cell_type": "code",
   "execution_count": null,
   "id": "95c7cc1b-815b-4cd0-8860-cd9155c825d5",
   "metadata": {},
   "outputs": [],
   "source": []
  }
 ],
 "metadata": {
  "kernelspec": {
   "display_name": "Python 3 (ipykernel)",
   "language": "python",
   "name": "python3"
  },
  "language_info": {
   "codemirror_mode": {
    "name": "ipython",
    "version": 3
   },
   "file_extension": ".py",
   "mimetype": "text/x-python",
   "name": "python",
   "nbconvert_exporter": "python",
   "pygments_lexer": "ipython3",
   "version": "3.9.13"
  }
 },
 "nbformat": 4,
 "nbformat_minor": 5
}
